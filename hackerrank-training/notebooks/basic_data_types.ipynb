{
 "cells": [
  {
   "cell_type": "markdown",
   "id": "be93eb67",
   "metadata": {},
   "source": [
    "Tuples\n",
    "\n",
    "#Enunciate\n",
    "Task\n",
    "Given an integer, n, and n space-separated integers as input, create a tuple, t, of those n integers. Then compute and print the result of hash(t).\n",
    "\n",
    "Note: hash() is one of the functions in the __builtins__ module, so it need not be imported.\n",
    "\n",
    "Input Format\n",
    "\n",
    "The first line contains an integer, , denoting the number of elements in the tuple.\n",
    "The second line contains  space-separated integers describing the elements in tuple .\n",
    "\n",
    "Output Format\n",
    "\n",
    "Print the result of hash(t)\n",
    "\n",
    "Sample Input 0\n",
    "2\n",
    "12\n",
    "\n",
    "Sample Output 0\n",
    "3713081631934410656"
   ]
  },
  {
   "cell_type": "code",
   "execution_count": null,
   "id": "45b0805d",
   "metadata": {},
   "outputs": [],
   "source": [
    "if __name__ == '__main__':\n",
    "    n = int(input())\n",
    "    integer_list = map(int, input().split())\n",
    "    t = tuple(integer_list)\n",
    "    print(hash(t))"
   ]
  },
  {
   "cell_type": "markdown",
   "id": "59f7babe",
   "metadata": {},
   "source": [
    "Given an integer, n, print the following values for each integer i from 1 to n:\n",
    "\n",
    "- Decimal\n",
    "- Octal\n",
    "- Hexadecimal (capitalized)\n",
    "- Binary\n",
    "- Function Description\n",
    "\n",
    "Complete the print_formatted function in the editor below.\n",
    "\n",
    "print_formatted has the following parameters:\n",
    "\n",
    "int number: the maximum value to print\n",
    "Prints\n",
    "\n",
    "The four values must be printed on a single line in the order specified above for each i from 1 to number. Each value should be space-padded to match the width of the binary value of number and the values should be separated by a single space.\n",
    "\n",
    "Input Format\n",
    "\n",
    "A single integer denoting n.\n",
    "\n",
    "Constraints\n",
    "1 <= n <= 99 \n",
    "Sample Input"
   ]
  },
  {
   "cell_type": "code",
   "execution_count": null,
   "id": "77a15333",
   "metadata": {},
   "outputs": [],
   "source": [
    "n = 17\n",
    "width = len(bin(n[2:]))\n",
    "for _ in range(1, n+1):\n",
    "    print(f'{_:>{width}} {oct(_)[2:]:>{width}} {hex(_)[2:].upper():>{width}} {bin(_)[2:]:>{width}}')"
   ]
  }
 ],
 "metadata": {
  "kernelspec": {
   "display_name": "venv (3.13.1)",
   "language": "python",
   "name": "python3"
  },
  "language_info": {
   "codemirror_mode": {
    "name": "ipython",
    "version": 3
   },
   "file_extension": ".py",
   "mimetype": "text/x-python",
   "name": "python",
   "nbconvert_exporter": "python",
   "pygments_lexer": "ipython3",
   "version": "3.13.1"
  }
 },
 "nbformat": 4,
 "nbformat_minor": 5
}
