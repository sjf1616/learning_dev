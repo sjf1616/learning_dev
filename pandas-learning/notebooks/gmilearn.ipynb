{
  "cells": [
    {
      "cell_type": "code",
      "execution_count": 1,
      "metadata": {
        "colab": {
          "base_uri": "https://localhost:8080/"
        },
        "id": "Nh1IYxZ3-X4s",
        "outputId": "ffddca54-83a7-4ae7-b405-43a997120fd3"
      },
      "outputs": [
        {
          "name": "stdout",
          "output_type": "stream",
          "text": [
            "  Cabeçalho 1 Cabeçalho 2\n",
            "0     Linha 1     Linha 1\n",
            "1     Linha 2     Linha 2\n"
          ]
        }
      ],
      "source": [
        "import pandas as pd\n",
        "\n",
        "teste_data = [['Linha 1', 'Linha 1'], ['Linha 2', 'Linha 2']]\n",
        "df = pd.DataFrame(teste_data, columns=[\"Cabeçalho 1\", \"Cabeçalho 2\"])\n",
        "print(df)"
      ]
    },
    {
      "cell_type": "code",
      "execution_count": 2,
      "metadata": {
        "colab": {
          "base_uri": "https://localhost:8080/"
        },
        "id": "TNjpdYhME0pR",
        "outputId": "600d9c63-d505-4102-ac71-a8d7fbf74b32"
      },
      "outputs": [
        {
          "name": "stdout",
          "output_type": "stream",
          "text": [
            "0    Linha 1\n",
            "1    Linha 2\n",
            "Name: Cabeçalho 2, dtype: object\n"
          ]
        }
      ],
      "source": [
        "print(df[\"Cabeçalho 2\"])"
      ]
    },
    {
      "cell_type": "code",
      "execution_count": 3,
      "metadata": {
        "colab": {
          "base_uri": "https://localhost:8080/"
        },
        "id": "2IhtmKcqF_wA",
        "outputId": "3bfc6874-b52a-437b-a200-3d61fc04ba1a"
      },
      "outputs": [
        {
          "name": "stdout",
          "output_type": "stream",
          "text": [
            "  Cabeçalho 2 Cabeçalho 1\n",
            "0     Linha 1     Linha 1\n",
            "1     Linha 2     Linha 2\n"
          ]
        }
      ],
      "source": [
        "print(df.get([\"Cabeçalho 2\", \"Cabeçalho 1\"]))"
      ]
    },
    {
      "cell_type": "code",
      "execution_count": 4,
      "metadata": {
        "colab": {
          "base_uri": "https://localhost:8080/"
        },
        "id": "4NBuMUzUGLG-",
        "outputId": "8e27a31e-0404-4cea-c7d3-a1c77fdb8efb"
      },
      "outputs": [
        {
          "name": "stdout",
          "output_type": "stream",
          "text": [
            "DataFrame Original de Vendas:\n",
            "  Vendedor Produto  Valor  Quantidade\n",
            "0    Alice       A    100           2\n",
            "1      Bob       B    150           1\n",
            "2    Alice       A    200           3\n",
            "3  Charlie       C     50           1\n",
            "4      Bob       A    120           2\n",
            "5    Alice       B    180           1\n",
            "6  Charlie       B     90           1\n",
            "---\n"
          ]
        }
      ],
      "source": [
        "import pandas as pd\n",
        "\n",
        "vendas = {\n",
        "    \"Vendedor\": [\"Alice\", \"Bob\", \"Alice\", \"Charlie\", \"Bob\", \"Alice\", \"Charlie\"],\n",
        "    \"Produto\": [\"A\", \"B\", \"A\", \"C\", \"A\", \"B\", \"B\"],\n",
        "    \"Valor\": [100, 150, 200, 50, 120, 180, 90],\n",
        "    \"Quantidade\": [2, 1, 3, 1, 2, 1, 1]\n",
        "}\n",
        "df_vendas = pd.DataFrame(vendas)\n",
        "print(\"DataFrame Original de Vendas:\")\n",
        "print(df_vendas)\n",
        "print(\"---\")"
      ]
    },
    {
      "cell_type": "code",
      "execution_count": 5,
      "metadata": {
        "colab": {
          "base_uri": "https://localhost:8080/"
        },
        "id": "IR9KKssaJFnS",
        "outputId": "5d802e6a-cc92-4fd1-cb21-57b8c53b32e5"
      },
      "outputs": [
        {
          "name": "stdout",
          "output_type": "stream",
          "text": [
            "Vendedor\n",
            "Alice      480\n",
            "Bob        270\n",
            "Charlie    140\n",
            "Name: Valor, dtype: int64\n"
          ]
        }
      ],
      "source": [
        "vendas_por_vendedor = df_vendas.groupby(\"Vendedor\")[\"Valor\"].sum()\n",
        "print(vendas_por_vendedor)"
      ]
    },
    {
      "cell_type": "code",
      "execution_count": 6,
      "metadata": {
        "colab": {
          "base_uri": "https://localhost:8080/"
        },
        "id": "0iLE6g53JVza",
        "outputId": "2d14a4b4-906d-4261-dee3-d4c49f47fba2"
      },
      "outputs": [
        {
          "name": "stdout",
          "output_type": "stream",
          "text": [
            "         Valor  Quantidade\n",
            "Produto                   \n",
            "A        140.0           7\n",
            "B        140.0           3\n",
            "C         50.0           1\n"
          ]
        }
      ],
      "source": [
        "analise_por_produto = df_vendas.groupby(\"Produto\").agg({'Valor':'mean', 'Quantidade': 'sum'})\n",
        "print(analise_por_produto)"
      ]
    },
    {
      "cell_type": "code",
      "execution_count": 7,
      "metadata": {
        "colab": {
          "base_uri": "https://localhost:8080/"
        },
        "id": "VjXN1bejK0SH",
        "outputId": "4a2f3eef-0075-4755-e691-5b5b0b915b4d"
      },
      "outputs": [
        {
          "name": "stdout",
          "output_type": "stream",
          "text": [
            "         Valor  Quantidade\n",
            "Produto                   \n",
            "A        140.0           3\n",
            "B        140.0           3\n",
            "C         50.0           1\n"
          ]
        }
      ],
      "source": [
        "teste = df_vendas.groupby(\"Produto\").agg({'Valor':'mean', 'Quantidade':'count'})\n",
        "print(teste)"
      ]
    },
    {
      "cell_type": "code",
      "execution_count": 8,
      "metadata": {
        "colab": {
          "base_uri": "https://localhost:8080/"
        },
        "id": "phCpNOwCK_VP",
        "outputId": "64733712-8e60-4e4b-b38d-89202f250571"
      },
      "outputs": [
        {
          "name": "stdout",
          "output_type": "stream",
          "text": [
            "  Vendedor  Valor\n",
            "0    Alice    480\n",
            "1      Bob    270\n",
            "2  Charlie    140\n"
          ]
        }
      ],
      "source": [
        "df_vendas_por_vendedor = vendas_por_vendedor.reset_index()\n",
        "print(df_vendas_por_vendedor)"
      ]
    },
    {
      "cell_type": "code",
      "execution_count": 9,
      "metadata": {
        "colab": {
          "base_uri": "https://localhost:8080/"
        },
        "id": "2IgOk0v2L_ng",
        "outputId": "80b74f06-5cc0-4def-c1b0-49654c437119"
      },
      "outputs": [
        {
          "name": "stdout",
          "output_type": "stream",
          "text": [
            "DataFrame com a nova coluna 'CategoriaVenda':\n",
            "   Vendedor Produto  Valor  Quantidade CategoriaVenda\n",
            "0    Alice       A    100           2          Baixa\n",
            "1      Bob       B    150           1          Média\n",
            "2    Alice       A    200           3          Média\n",
            "3  Charlie       C     50           1          Baixa\n",
            "4      Bob       A    120           2          Média\n",
            "5    Alice       B    180           1          Média\n",
            "6  Charlie       B     90           1          Baixa\n"
          ]
        }
      ],
      "source": [
        "\n",
        "import pandas as pd\n",
        "\n",
        "vendas = {\n",
        "    \"Vendedor\": [\"Alice\", \"Bob\", \"Alice\", \"Charlie\", \"Bob\", \"Alice\", \"Charlie\"],\n",
        "    \"Produto\": [\"A\", \"B\", \"A\", \"C\", \"A\", \"B\", \"B\"],\n",
        "    \"Valor\": [100, 150, 200, 50, 120, 180, 90],\n",
        "    \"Quantidade\": [2, 1, 3, 1, 2, 1, 1]\n",
        "}\n",
        "df_vendas = pd.DataFrame(vendas)\n",
        "\n",
        "# Função de categorização\n",
        "def categorizar_vendas(valor):\n",
        "    if valor <= 100:\n",
        "        return \"Baixa\"\n",
        "    elif valor <= 200:\n",
        "        return \"Média\"\n",
        "    else:\n",
        "        return \"Alta\"\n",
        "\n",
        "# Aplica a função à coluna 'Valor' e cria a nova coluna\n",
        "df_vendas[\"CategoriaVenda\"] = df_vendas[\"Valor\"].apply(categorizar_vendas)\n",
        "print(\"DataFrame com a nova coluna 'CategoriaVenda':\\n\", df_vendas)"
      ]
    },
    {
      "cell_type": "code",
      "execution_count": 10,
      "metadata": {
        "colab": {
          "base_uri": "https://localhost:8080/"
        },
        "id": "t_EXnyinpBXb",
        "outputId": "2510a2e7-846d-482d-e1d5-7ed1c12e6c41"
      },
      "outputs": [
        {
          "name": "stdout",
          "output_type": "stream",
          "text": [
            "DataFrame com a coluna 'Produto' corrigida:\n",
            "   Vendedor  Produto  Valor  Quantidade\n",
            "0    Alice        A    100           2\n",
            "1      Bob  Monitor    150           1\n",
            "2    Alice        A    200           3\n",
            "3  Charlie   Tablet     50           1\n",
            "4      Bob        A    120           2\n",
            "5    Alice  Monitor    180           1\n",
            "6  Charlie  Monitor     90           1\n"
          ]
        }
      ],
      "source": [
        "import pandas as pd\n",
        "\n",
        "vendas = {\n",
        "    \"Vendedor\": [\"Alice\", \"Bob\", \"Alice\", \"Charlie\", \"Bob\", \"Alice\", \"Charlie\"],\n",
        "    \"Produto\": [\"A\", \"B\", \"A\", \"C\", \"A\", \"B\", \"B\"],\n",
        "    \"Valor\": [100, 150, 200, 50, 120, 180, 90],\n",
        "    \"Quantidade\": [2, 1, 3, 1, 2, 1, 1]\n",
        "}\n",
        "df_vendas = pd.DataFrame(vendas)\n",
        "\n",
        "# Dicionário de substituições\n",
        "mapa_dicionario = {\n",
        "    \"C\": \"Tablet\",\n",
        "    \"B\": \"Monitor\"\n",
        "}\n",
        "\n",
        "# Usa o .replace() para atualizar a coluna \"Produto\"\n",
        "df_vendas[\"Produto\"] = df_vendas[\"Produto\"].replace(mapa_dicionario)\n",
        "\n",
        "print(\"DataFrame com a coluna 'Produto' corrigida:\\n\", df_vendas)"
      ]
    },
    {
      "cell_type": "code",
      "execution_count": 11,
      "metadata": {
        "colab": {
          "base_uri": "https://localhost:8080/"
        },
        "id": "msW3KUZKp8Kh",
        "outputId": "b296995c-a277-48c1-ad70-6e50bcfbc31e"
      },
      "outputs": [
        {
          "name": "stdout",
          "output_type": "stream",
          "text": [
            "DataFrame com a nova coluna 'Apelido':\n",
            "   Vendedor Produto  Valor  Quantidade  Apelido\n",
            "0    Alice       A    100           2    Aline\n",
            "1      Bob       B    150           1  Roberto\n",
            "2    Alice       A    200           3    Aline\n",
            "3  Charlie       C     50           1   Carlos\n",
            "4      Bob       A    120           2  Roberto\n",
            "5    Alice       B    180           1    Aline\n",
            "6  Charlie       B     90           1   Carlos\n"
          ]
        }
      ],
      "source": [
        "import pandas as pd\n",
        "\n",
        "vendas = {\n",
        "    \"Vendedor\": [\"Alice\", \"Bob\", \"Alice\", \"Charlie\", \"Bob\", \"Alice\", \"Charlie\"],\n",
        "    \"Produto\": [\"A\", \"B\", \"A\", \"C\", \"A\", \"B\", \"B\"],\n",
        "    \"Valor\": [100, 150, 200, 50, 120, 180, 90],\n",
        "    \"Quantidade\": [2, 1, 3, 1, 2, 1, 1]\n",
        "}\n",
        "df_vendas = pd.DataFrame(vendas)\n",
        "\n",
        "# Dicionário de mapeamento\n",
        "mapa_apelidos = {\n",
        "    \"Alice\": \"Aline\",\n",
        "    \"Bob\": \"Roberto\",\n",
        "    \"Charlie\": \"Carlos\"\n",
        "}\n",
        "\n",
        "# Usa o .map() para criar a nova coluna \"Apelido\"\n",
        "df_vendas[\"Apelido\"] = df_vendas[\"Vendedor\"].map(mapa_apelidos)\n",
        "\n",
        "print(\"DataFrame com a nova coluna 'Apelido':\\n\", df_vendas)"
      ]
    },
    {
      "cell_type": "code",
      "execution_count": 12,
      "metadata": {
        "colab": {
          "base_uri": "https://localhost:8080/"
        },
        "id": "yAYHp5oYqBb5",
        "outputId": "404f772d-cd16-4d43-d3e2-b3eefc81c92e"
      },
      "outputs": [
        {
          "name": "stdout",
          "output_type": "stream",
          "text": [
            "  Vendedor Produto  Valor  Quantidade  Apelido\n",
            "0    Alice       A    100           2    Aline\n",
            "1      Bob       B    150           1  Roberto\n",
            "2    Alice       A    200           3    Aline\n",
            "3  Charlie       C     50           1   Carlos\n",
            "4      Bob       A    120           2  Roberto\n",
            "5    Alice       B    180           1    Aline\n",
            "6  Charlie       B     90           1   Carlos\n"
          ]
        }
      ],
      "source": [
        "df_limpo = df_vendas.copy()\n",
        "\n",
        "df_limpo[\"Produto\"] = df_limpo[\"Produto\"].fillna(\"Sem produto\")\n",
        "media = df_limpo[\"Valor\"].mean()\n",
        "df_limpo[\"Valor\"] = df_limpo[\"Valor\"].fillna(media)\n",
        "print(df_limpo)"
      ]
    },
    {
      "cell_type": "code",
      "execution_count": 13,
      "metadata": {
        "colab": {
          "base_uri": "https://localhost:8080/"
        },
        "id": "7CmuZvDA3s-W",
        "outputId": "1c936c73-5a46-43a1-b055-a31ccb9e6a68"
      },
      "outputs": [
        {
          "name": "stdout",
          "output_type": "stream",
          "text": [
            "0      Alice\n",
            "1        Bob\n",
            "3    Charlie\n",
            "4        Bob\n",
            "5      Alice\n",
            "Name: Vendedor, dtype: object\n",
            "Empty DataFrame\n",
            "Columns: []\n",
            "Index: [0, 1, 2, 3, 4, 5]\n"
          ]
        }
      ],
      "source": [
        "import pandas as pd\n",
        "import numpy as np\n",
        "\n",
        "dados = {\n",
        "    \"Vendedor\":[\"Alice\", \"Bob\", np.nan, \"Charlie\", \"Bob\", \"Alice\"],\n",
        "    \"Produto\": [\"A\", \"B\", \"A\", \"C\", \"A\", np.nan],\n",
        "    \"Valor\": [100, 150, 200, np.nan, 120, 180]\n",
        "}\n",
        "df = pd.DataFrame(dados)\n",
        "\n",
        "df_vendedores_sem_nan = df[\"Vendedor\"].dropna()\n",
        "print(df_vendedores_sem_nan)\n",
        "\n",
        "df_colunas_completas = df.dropna(axis=1)\n",
        "print(df_colunas_completas)\n"
      ]
    },
    {
      "cell_type": "markdown",
      "metadata": {},
      "source": [
        "----"
      ]
    },
    {
      "cell_type": "markdown",
      "metadata": {},
      "source": [
        "**`Sort_values()`**\n",
        "\n",
        "- O método `sort_values()` é usado para ordenar um DataFrame ou Series com base nos valores de uma ou mais colunas. A ordenação pode ser crescente ou decrescente."
      ]
    },
    {
      "cell_type": "code",
      "execution_count": 23,
      "metadata": {
        "id": "SAfDhYcMTSM4"
      },
      "outputs": [
        {
          "data": {
            "text/html": [
              "<div>\n",
              "<style scoped>\n",
              "    .dataframe tbody tr th:only-of-type {\n",
              "        vertical-align: middle;\n",
              "    }\n",
              "\n",
              "    .dataframe tbody tr th {\n",
              "        vertical-align: top;\n",
              "    }\n",
              "\n",
              "    .dataframe thead th {\n",
              "        text-align: right;\n",
              "    }\n",
              "</style>\n",
              "<table border=\"1\" class=\"dataframe\">\n",
              "  <thead>\n",
              "    <tr style=\"text-align: right;\">\n",
              "      <th></th>\n",
              "      <th>Vendedor</th>\n",
              "      <th>Produto</th>\n",
              "      <th>Valor</th>\n",
              "      <th>Quantidade</th>\n",
              "      <th>Apelido</th>\n",
              "    </tr>\n",
              "  </thead>\n",
              "  <tbody>\n",
              "    <tr>\n",
              "      <th>1</th>\n",
              "      <td>Bob</td>\n",
              "      <td>B</td>\n",
              "      <td>150</td>\n",
              "      <td>1</td>\n",
              "      <td>Roberto</td>\n",
              "    </tr>\n",
              "  </tbody>\n",
              "</table>\n",
              "</div>"
            ],
            "text/plain": [
              "  Vendedor Produto  Valor  Quantidade  Apelido\n",
              "1      Bob       B    150           1  Roberto"
            ]
          },
          "execution_count": 23,
          "metadata": {},
          "output_type": "execute_result"
        }
      ],
      "source": [
        "# Ordena para o menor valor do DataFrame, by=Coluna, ascending= True(Crescente) | False (Decrescente)\n",
        "df_menor_quantidade = df_vendas.sort_values(by='Quantidade', ascending=True)\n",
        "df_menor_quantidade.head(1)"
      ]
    },
    {
      "cell_type": "code",
      "execution_count": 22,
      "metadata": {},
      "outputs": [
        {
          "data": {
            "text/html": [
              "<div>\n",
              "<style scoped>\n",
              "    .dataframe tbody tr th:only-of-type {\n",
              "        vertical-align: middle;\n",
              "    }\n",
              "\n",
              "    .dataframe tbody tr th {\n",
              "        vertical-align: top;\n",
              "    }\n",
              "\n",
              "    .dataframe thead th {\n",
              "        text-align: right;\n",
              "    }\n",
              "</style>\n",
              "<table border=\"1\" class=\"dataframe\">\n",
              "  <thead>\n",
              "    <tr style=\"text-align: right;\">\n",
              "      <th></th>\n",
              "      <th>Vendedor</th>\n",
              "      <th>Produto</th>\n",
              "      <th>Valor</th>\n",
              "      <th>Quantidade</th>\n",
              "      <th>Apelido</th>\n",
              "    </tr>\n",
              "  </thead>\n",
              "  <tbody>\n",
              "    <tr>\n",
              "      <th>2</th>\n",
              "      <td>Alice</td>\n",
              "      <td>A</td>\n",
              "      <td>200</td>\n",
              "      <td>3</td>\n",
              "      <td>Aline</td>\n",
              "    </tr>\n",
              "    <tr>\n",
              "      <th>0</th>\n",
              "      <td>Alice</td>\n",
              "      <td>A</td>\n",
              "      <td>100</td>\n",
              "      <td>2</td>\n",
              "      <td>Aline</td>\n",
              "    </tr>\n",
              "    <tr>\n",
              "      <th>5</th>\n",
              "      <td>Alice</td>\n",
              "      <td>B</td>\n",
              "      <td>180</td>\n",
              "      <td>1</td>\n",
              "      <td>Aline</td>\n",
              "    </tr>\n",
              "    <tr>\n",
              "      <th>4</th>\n",
              "      <td>Bob</td>\n",
              "      <td>A</td>\n",
              "      <td>120</td>\n",
              "      <td>2</td>\n",
              "      <td>Roberto</td>\n",
              "    </tr>\n",
              "    <tr>\n",
              "      <th>1</th>\n",
              "      <td>Bob</td>\n",
              "      <td>B</td>\n",
              "      <td>150</td>\n",
              "      <td>1</td>\n",
              "      <td>Roberto</td>\n",
              "    </tr>\n",
              "    <tr>\n",
              "      <th>3</th>\n",
              "      <td>Charlie</td>\n",
              "      <td>C</td>\n",
              "      <td>50</td>\n",
              "      <td>1</td>\n",
              "      <td>Carlos</td>\n",
              "    </tr>\n",
              "    <tr>\n",
              "      <th>6</th>\n",
              "      <td>Charlie</td>\n",
              "      <td>B</td>\n",
              "      <td>90</td>\n",
              "      <td>1</td>\n",
              "      <td>Carlos</td>\n",
              "    </tr>\n",
              "  </tbody>\n",
              "</table>\n",
              "</div>"
            ],
            "text/plain": [
              "  Vendedor Produto  Valor  Quantidade  Apelido\n",
              "2    Alice       A    200           3    Aline\n",
              "0    Alice       A    100           2    Aline\n",
              "5    Alice       B    180           1    Aline\n",
              "4      Bob       A    120           2  Roberto\n",
              "1      Bob       B    150           1  Roberto\n",
              "3  Charlie       C     50           1   Carlos\n",
              "6  Charlie       B     90           1   Carlos"
            ]
          },
          "execution_count": 22,
          "metadata": {},
          "output_type": "execute_result"
        }
      ],
      "source": [
        "# Ordena Vendedor em ordem alfabética, e Quantidade em ordem Descrescente.\n",
        "df_vendas_ordenado = df_vendas.sort_values(by=[\"Vendedor\", \"Quantidade\"], ascending=[True, False])\n",
        "df_vendas_ordenado"
      ]
    },
    {
      "cell_type": "markdown",
      "metadata": {},
      "source": [
        "----"
      ]
    },
    {
      "cell_type": "markdown",
      "metadata": {},
      "source": [
        "**`sort_index()`**\n",
        "\n",
        "O método `sort_index()` é usado para ordenar um DataFrame ou Series com base no seu índice (os rótulos das linhas), e não nos valores das colunas."
      ]
    },
    {
      "cell_type": "code",
      "execution_count": null,
      "metadata": {},
      "outputs": [
        {
          "data": {
            "text/html": [
              "<div>\n",
              "<style scoped>\n",
              "    .dataframe tbody tr th:only-of-type {\n",
              "        vertical-align: middle;\n",
              "    }\n",
              "\n",
              "    .dataframe tbody tr th {\n",
              "        vertical-align: top;\n",
              "    }\n",
              "\n",
              "    .dataframe thead th {\n",
              "        text-align: right;\n",
              "    }\n",
              "</style>\n",
              "<table border=\"1\" class=\"dataframe\">\n",
              "  <thead>\n",
              "    <tr style=\"text-align: right;\">\n",
              "      <th></th>\n",
              "      <th>Vendedor</th>\n",
              "      <th>Produto</th>\n",
              "      <th>Valor</th>\n",
              "      <th>Quantidade</th>\n",
              "      <th>Apelido</th>\n",
              "    </tr>\n",
              "  </thead>\n",
              "  <tbody>\n",
              "    <tr>\n",
              "      <th>3</th>\n",
              "      <td>Charlie</td>\n",
              "      <td>C</td>\n",
              "      <td>50</td>\n",
              "      <td>1</td>\n",
              "      <td>Carlos</td>\n",
              "    </tr>\n",
              "    <tr>\n",
              "      <th>6</th>\n",
              "      <td>Charlie</td>\n",
              "      <td>B</td>\n",
              "      <td>90</td>\n",
              "      <td>1</td>\n",
              "      <td>Carlos</td>\n",
              "    </tr>\n",
              "    <tr>\n",
              "      <th>1</th>\n",
              "      <td>Bob</td>\n",
              "      <td>B</td>\n",
              "      <td>150</td>\n",
              "      <td>1</td>\n",
              "      <td>Roberto</td>\n",
              "    </tr>\n",
              "    <tr>\n",
              "      <th>4</th>\n",
              "      <td>Bob</td>\n",
              "      <td>A</td>\n",
              "      <td>120</td>\n",
              "      <td>2</td>\n",
              "      <td>Roberto</td>\n",
              "    </tr>\n",
              "    <tr>\n",
              "      <th>0</th>\n",
              "      <td>Alice</td>\n",
              "      <td>A</td>\n",
              "      <td>100</td>\n",
              "      <td>2</td>\n",
              "      <td>Aline</td>\n",
              "    </tr>\n",
              "    <tr>\n",
              "      <th>2</th>\n",
              "      <td>Alice</td>\n",
              "      <td>A</td>\n",
              "      <td>200</td>\n",
              "      <td>3</td>\n",
              "      <td>Aline</td>\n",
              "    </tr>\n",
              "    <tr>\n",
              "      <th>5</th>\n",
              "      <td>Alice</td>\n",
              "      <td>B</td>\n",
              "      <td>180</td>\n",
              "      <td>1</td>\n",
              "      <td>Aline</td>\n",
              "    </tr>\n",
              "  </tbody>\n",
              "</table>\n",
              "</div>"
            ],
            "text/plain": [
              "  Vendedor Produto  Valor  Quantidade  Apelido\n",
              "3  Charlie       C     50           1   Carlos\n",
              "6  Charlie       B     90           1   Carlos\n",
              "1      Bob       B    150           1  Roberto\n",
              "4      Bob       A    120           2  Roberto\n",
              "0    Alice       A    100           2    Aline\n",
              "2    Alice       A    200           3    Aline\n",
              "5    Alice       B    180           1    Aline"
            ]
          },
          "execution_count": 26,
          "metadata": {},
          "output_type": "execute_result"
        }
      ],
      "source": [
        "# DataFrame que ordenado em forma descrescente por Vendedor\n",
        "df_vendas_ordenado_por_valor = df_vendas.sort_values(by=\"Vendedor\", ascending=False)\n",
        "df_vendas_ordenado_por_valor"
      ]
    },
    {
      "cell_type": "code",
      "execution_count": 34,
      "metadata": {},
      "outputs": [
        {
          "data": {
            "text/html": [
              "<div>\n",
              "<style scoped>\n",
              "    .dataframe tbody tr th:only-of-type {\n",
              "        vertical-align: middle;\n",
              "    }\n",
              "\n",
              "    .dataframe tbody tr th {\n",
              "        vertical-align: top;\n",
              "    }\n",
              "\n",
              "    .dataframe thead th {\n",
              "        text-align: right;\n",
              "    }\n",
              "</style>\n",
              "<table border=\"1\" class=\"dataframe\">\n",
              "  <thead>\n",
              "    <tr style=\"text-align: right;\">\n",
              "      <th></th>\n",
              "      <th>Apelido</th>\n",
              "      <th>Produto</th>\n",
              "      <th>Quantidade</th>\n",
              "      <th>Valor</th>\n",
              "      <th>Vendedor</th>\n",
              "    </tr>\n",
              "  </thead>\n",
              "  <tbody>\n",
              "    <tr>\n",
              "      <th>0</th>\n",
              "      <td>Aline</td>\n",
              "      <td>A</td>\n",
              "      <td>2</td>\n",
              "      <td>100</td>\n",
              "      <td>Alice</td>\n",
              "    </tr>\n",
              "    <tr>\n",
              "      <th>1</th>\n",
              "      <td>Roberto</td>\n",
              "      <td>B</td>\n",
              "      <td>1</td>\n",
              "      <td>150</td>\n",
              "      <td>Bob</td>\n",
              "    </tr>\n",
              "    <tr>\n",
              "      <th>2</th>\n",
              "      <td>Aline</td>\n",
              "      <td>A</td>\n",
              "      <td>3</td>\n",
              "      <td>200</td>\n",
              "      <td>Alice</td>\n",
              "    </tr>\n",
              "    <tr>\n",
              "      <th>3</th>\n",
              "      <td>Carlos</td>\n",
              "      <td>C</td>\n",
              "      <td>1</td>\n",
              "      <td>50</td>\n",
              "      <td>Charlie</td>\n",
              "    </tr>\n",
              "    <tr>\n",
              "      <th>4</th>\n",
              "      <td>Roberto</td>\n",
              "      <td>A</td>\n",
              "      <td>2</td>\n",
              "      <td>120</td>\n",
              "      <td>Bob</td>\n",
              "    </tr>\n",
              "    <tr>\n",
              "      <th>5</th>\n",
              "      <td>Aline</td>\n",
              "      <td>B</td>\n",
              "      <td>1</td>\n",
              "      <td>180</td>\n",
              "      <td>Alice</td>\n",
              "    </tr>\n",
              "    <tr>\n",
              "      <th>6</th>\n",
              "      <td>Carlos</td>\n",
              "      <td>B</td>\n",
              "      <td>1</td>\n",
              "      <td>90</td>\n",
              "      <td>Charlie</td>\n",
              "    </tr>\n",
              "  </tbody>\n",
              "</table>\n",
              "</div>"
            ],
            "text/plain": [
              "   Apelido Produto  Quantidade  Valor Vendedor\n",
              "0    Aline       A           2    100    Alice\n",
              "1  Roberto       B           1    150      Bob\n",
              "2    Aline       A           3    200    Alice\n",
              "3   Carlos       C           1     50  Charlie\n",
              "4  Roberto       A           2    120      Bob\n",
              "5    Aline       B           1    180    Alice\n",
              "6   Carlos       B           1     90  Charlie"
            ]
          },
          "execution_count": 34,
          "metadata": {},
          "output_type": "execute_result"
        }
      ],
      "source": [
        "# DataFrame ordenado final\n",
        "df_vendas_ordenado_final = df_vendas_ordenado_por_valor.sort_index()\n",
        "df_vendas_ordenado_final"
      ]
    },
    {
      "cell_type": "markdown",
      "metadata": {},
      "source": [
        "----"
      ]
    }
  ],
  "metadata": {
    "colab": {
      "provenance": []
    },
    "kernelspec": {
      "display_name": "Python 3",
      "name": "python3"
    },
    "language_info": {
      "codemirror_mode": {
        "name": "ipython",
        "version": 3
      },
      "file_extension": ".py",
      "mimetype": "text/x-python",
      "name": "python",
      "nbconvert_exporter": "python",
      "pygments_lexer": "ipython3",
      "version": "3.13.1"
    }
  },
  "nbformat": 4,
  "nbformat_minor": 0
}
