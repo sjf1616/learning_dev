{
 "cells": [
  {
   "cell_type": "markdown",
   "id": "1339c87e",
   "metadata": {},
   "source": [
    "1 - Criar um DataFrame manualmente"
   ]
  },
  {
   "cell_type": "code",
   "execution_count": 8,
   "id": "819f7d4b",
   "metadata": {},
   "outputs": [
    {
     "name": "stdout",
     "output_type": "stream",
     "text": [
      "    Fruta    Tipo  Quantidade\n",
      "0    Maça   Tommy          10\n",
      "1  Banana  Branca          20\n",
      "2     Uva   Verde          15\n"
     ]
    }
   ],
   "source": [
    "import pandas as pd\n",
    "\n",
    "frutas_estoque = {}\n",
    "\n",
    "df_frutas = pd.DataFrame({\n",
    "    'Fruta': ['Maça', 'Banana', 'Uva'],\n",
    "    'Tipo' : ['Tommy', 'Branca', 'Verde'],\n",
    "    'Quantidade':[10, 20, 15]\n",
    "})\n",
    "print(df_frutas)\n"
   ]
  }
 ],
 "metadata": {
  "kernelspec": {
   "display_name": "venv (3.13.1)",
   "language": "python",
   "name": "python3"
  },
  "language_info": {
   "codemirror_mode": {
    "name": "ipython",
    "version": 3
   },
   "file_extension": ".py",
   "mimetype": "text/x-python",
   "name": "python",
   "nbconvert_exporter": "python",
   "pygments_lexer": "ipython3",
   "version": "3.13.1"
  }
 },
 "nbformat": 4,
 "nbformat_minor": 5
}
