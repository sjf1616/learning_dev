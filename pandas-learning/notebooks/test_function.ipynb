{
  "nbformat": 4,
  "nbformat_minor": 0,
  "metadata": {
    "colab": {
      "provenance": []
    },
    "kernelspec": {
      "name": "python3",
      "display_name": "Python 3"
    },
    "language_info": {
      "name": "python"
    }
  },
  "cells": [
    {
      "cell_type": "code",
      "source": [
        "import pandas as pd\n",
        "\n",
        "teste_data = [['Linha 1', 'Linha 1'], ['Linha 2', 'Linha 2']]\n",
        "df = pd.DataFrame(teste_data, columns=[\"Cabeçalho 1\", \"Cabeçalho 2\"])\n",
        "print(df)"
      ],
      "metadata": {
        "id": "Nh1IYxZ3-X4s",
        "colab": {
          "base_uri": "https://localhost:8080/"
        },
        "outputId": "ffddca54-83a7-4ae7-b405-43a997120fd3"
      },
      "execution_count": null,
      "outputs": [
        {
          "output_type": "stream",
          "name": "stdout",
          "text": [
            "  Cabeçalho 1 Cabeçalho 2\n",
            "0     Linha 1     Linha 1\n",
            "1     Linha 2     Linha 2\n"
          ]
        }
      ]
    },
    {
      "cell_type": "code",
      "source": [
        "print(df[\"Cabeçalho 2\"])"
      ],
      "metadata": {
        "colab": {
          "base_uri": "https://localhost:8080/"
        },
        "id": "TNjpdYhME0pR",
        "outputId": "600d9c63-d505-4102-ac71-a8d7fbf74b32"
      },
      "execution_count": null,
      "outputs": [
        {
          "output_type": "stream",
          "name": "stdout",
          "text": [
            "0    Linha 1\n",
            "1    Linha 2\n",
            "Name: Cabeçalho 2, dtype: object\n"
          ]
        }
      ]
    },
    {
      "cell_type": "code",
      "source": [
        "print(df.get([\"Cabeçalho 2\", \"Cabeçalho 1\"]))"
      ],
      "metadata": {
        "colab": {
          "base_uri": "https://localhost:8080/"
        },
        "id": "2IhtmKcqF_wA",
        "outputId": "3bfc6874-b52a-437b-a200-3d61fc04ba1a"
      },
      "execution_count": null,
      "outputs": [
        {
          "output_type": "stream",
          "name": "stdout",
          "text": [
            "  Cabeçalho 2 Cabeçalho 1\n",
            "0     Linha 1     Linha 1\n",
            "1     Linha 2     Linha 2\n"
          ]
        }
      ]
    },
    {
      "cell_type": "code",
      "source": [
        "import pandas as pd\n",
        "\n",
        "vendas = {\n",
        "    \"Vendedor\": [\"Alice\", \"Bob\", \"Alice\", \"Charlie\", \"Bob\", \"Alice\", \"Charlie\"],\n",
        "    \"Produto\": [\"A\", \"B\", \"A\", \"C\", \"A\", \"B\", \"B\"],\n",
        "    \"Valor\": [100, 150, 200, 50, 120, 180, 90],\n",
        "    \"Quantidade\": [2, 1, 3, 1, 2, 1, 1]\n",
        "}\n",
        "df_vendas = pd.DataFrame(vendas)\n",
        "print(\"DataFrame Original de Vendas:\")\n",
        "print(df_vendas)\n",
        "print(\"---\")"
      ],
      "metadata": {
        "id": "4NBuMUzUGLG-",
        "colab": {
          "base_uri": "https://localhost:8080/"
        },
        "outputId": "8e27a31e-0404-4cea-c7d3-a1c77fdb8efb"
      },
      "execution_count": null,
      "outputs": [
        {
          "output_type": "stream",
          "name": "stdout",
          "text": [
            "DataFrame Original de Vendas:\n",
            "  Vendedor Produto  Valor  Quantidade\n",
            "0    Alice       A    100           2\n",
            "1      Bob       B    150           1\n",
            "2    Alice       A    200           3\n",
            "3  Charlie       C     50           1\n",
            "4      Bob       A    120           2\n",
            "5    Alice       B    180           1\n",
            "6  Charlie       B     90           1\n",
            "---\n"
          ]
        }
      ]
    },
    {
      "cell_type": "code",
      "source": [
        "vendas_por_vendedor = df_vendas.groupby(\"Vendedor\")[\"Valor\"].sum()\n",
        "print(vendas_por_vendedor)"
      ],
      "metadata": {
        "colab": {
          "base_uri": "https://localhost:8080/"
        },
        "id": "IR9KKssaJFnS",
        "outputId": "5d802e6a-cc92-4fd1-cb21-57b8c53b32e5"
      },
      "execution_count": null,
      "outputs": [
        {
          "output_type": "stream",
          "name": "stdout",
          "text": [
            "Vendedor\n",
            "Alice      480\n",
            "Bob        270\n",
            "Charlie    140\n",
            "Name: Valor, dtype: int64\n"
          ]
        }
      ]
    },
    {
      "cell_type": "code",
      "source": [
        "analise_por_produto = df_vendas.groupby(\"Produto\").agg({'Valor':'mean', 'Quantidade': 'sum'})\n",
        "print(analise_por_produto)"
      ],
      "metadata": {
        "colab": {
          "base_uri": "https://localhost:8080/"
        },
        "id": "0iLE6g53JVza",
        "outputId": "2d14a4b4-906d-4261-dee3-d4c49f47fba2"
      },
      "execution_count": null,
      "outputs": [
        {
          "output_type": "stream",
          "name": "stdout",
          "text": [
            "         Valor  Quantidade\n",
            "Produto                   \n",
            "A        140.0           7\n",
            "B        140.0           3\n",
            "C         50.0           1\n"
          ]
        }
      ]
    },
    {
      "cell_type": "code",
      "source": [
        "teste = df_vendas.groupby(\"Produto\").agg({'Valor':'mean', 'Quantidade':'count'})\n",
        "print(teste)"
      ],
      "metadata": {
        "colab": {
          "base_uri": "https://localhost:8080/"
        },
        "id": "VjXN1bejK0SH",
        "outputId": "4a2f3eef-0075-4755-e691-5b5b0b915b4d"
      },
      "execution_count": null,
      "outputs": [
        {
          "output_type": "stream",
          "name": "stdout",
          "text": [
            "         Valor  Quantidade\n",
            "Produto                   \n",
            "A        140.0           3\n",
            "B        140.0           3\n",
            "C         50.0           1\n"
          ]
        }
      ]
    },
    {
      "cell_type": "code",
      "source": [
        "df_vendas_por_vendedor = vendas_por_vendedor.reset_index()\n",
        "print(df_vendas_por_vendedor)"
      ],
      "metadata": {
        "colab": {
          "base_uri": "https://localhost:8080/"
        },
        "id": "phCpNOwCK_VP",
        "outputId": "64733712-8e60-4e4b-b38d-89202f250571"
      },
      "execution_count": null,
      "outputs": [
        {
          "output_type": "stream",
          "name": "stdout",
          "text": [
            "  Vendedor  Valor\n",
            "0    Alice    480\n",
            "1      Bob    270\n",
            "2  Charlie    140\n"
          ]
        }
      ]
    },
    {
      "cell_type": "code",
      "source": [
        "\n",
        "import pandas as pd\n",
        "\n",
        "vendas = {\n",
        "    \"Vendedor\": [\"Alice\", \"Bob\", \"Alice\", \"Charlie\", \"Bob\", \"Alice\", \"Charlie\"],\n",
        "    \"Produto\": [\"A\", \"B\", \"A\", \"C\", \"A\", \"B\", \"B\"],\n",
        "    \"Valor\": [100, 150, 200, 50, 120, 180, 90],\n",
        "    \"Quantidade\": [2, 1, 3, 1, 2, 1, 1]\n",
        "}\n",
        "df_vendas = pd.DataFrame(vendas)\n",
        "\n",
        "# Função de categorização\n",
        "def categorizar_vendas(valor):\n",
        "    if valor <= 100:\n",
        "        return \"Baixa\"\n",
        "    elif valor <= 200:\n",
        "        return \"Média\"\n",
        "    else:\n",
        "        return \"Alta\"\n",
        "\n",
        "# Aplica a função à coluna 'Valor' e cria a nova coluna\n",
        "df_vendas[\"CategoriaVenda\"] = df_vendas[\"Valor\"].apply(categorizar_vendas)\n",
        "print(\"DataFrame com a nova coluna 'CategoriaVenda':\\n\", df_vendas)"
      ],
      "metadata": {
        "id": "2IgOk0v2L_ng",
        "colab": {
          "base_uri": "https://localhost:8080/"
        },
        "outputId": "80b74f06-5cc0-4def-c1b0-49654c437119"
      },
      "execution_count": null,
      "outputs": [
        {
          "output_type": "stream",
          "name": "stdout",
          "text": [
            "DataFrame com a nova coluna 'CategoriaVenda':\n",
            "   Vendedor Produto  Valor  Quantidade CategoriaVenda\n",
            "0    Alice       A    100           2          Baixa\n",
            "1      Bob       B    150           1          Média\n",
            "2    Alice       A    200           3          Média\n",
            "3  Charlie       C     50           1          Baixa\n",
            "4      Bob       A    120           2          Média\n",
            "5    Alice       B    180           1          Média\n",
            "6  Charlie       B     90           1          Baixa\n"
          ]
        }
      ]
    },
    {
      "cell_type": "code",
      "source": [
        "import pandas as pd\n",
        "\n",
        "vendas = {\n",
        "    \"Vendedor\": [\"Alice\", \"Bob\", \"Alice\", \"Charlie\", \"Bob\", \"Alice\", \"Charlie\"],\n",
        "    \"Produto\": [\"A\", \"B\", \"A\", \"C\", \"A\", \"B\", \"B\"],\n",
        "    \"Valor\": [100, 150, 200, 50, 120, 180, 90],\n",
        "    \"Quantidade\": [2, 1, 3, 1, 2, 1, 1]\n",
        "}\n",
        "df_vendas = pd.DataFrame(vendas)\n",
        "\n",
        "# Dicionário de substituições\n",
        "mapa_dicionario = {\n",
        "    \"C\": \"Tablet\",\n",
        "    \"B\": \"Monitor\"\n",
        "}\n",
        "\n",
        "# Usa o .replace() para atualizar a coluna \"Produto\"\n",
        "df_vendas[\"Produto\"] = df_vendas[\"Produto\"].replace(mapa_dicionario)\n",
        "\n",
        "print(\"DataFrame com a coluna 'Produto' corrigida:\\n\", df_vendas)"
      ],
      "metadata": {
        "colab": {
          "base_uri": "https://localhost:8080/"
        },
        "id": "t_EXnyinpBXb",
        "outputId": "2510a2e7-846d-482d-e1d5-7ed1c12e6c41"
      },
      "execution_count": null,
      "outputs": [
        {
          "output_type": "stream",
          "name": "stdout",
          "text": [
            "DataFrame com a coluna 'Produto' corrigida:\n",
            "   Vendedor  Produto  Valor  Quantidade\n",
            "0    Alice        A    100           2\n",
            "1      Bob  Monitor    150           1\n",
            "2    Alice        A    200           3\n",
            "3  Charlie   Tablet     50           1\n",
            "4      Bob        A    120           2\n",
            "5    Alice  Monitor    180           1\n",
            "6  Charlie  Monitor     90           1\n"
          ]
        }
      ]
    },
    {
      "cell_type": "code",
      "source": [
        "import pandas as pd\n",
        "\n",
        "vendas = {\n",
        "    \"Vendedor\": [\"Alice\", \"Bob\", \"Alice\", \"Charlie\", \"Bob\", \"Alice\", \"Charlie\"],\n",
        "    \"Produto\": [\"A\", \"B\", \"A\", \"C\", \"A\", \"B\", \"B\"],\n",
        "    \"Valor\": [100, 150, 200, 50, 120, 180, 90],\n",
        "    \"Quantidade\": [2, 1, 3, 1, 2, 1, 1]\n",
        "}\n",
        "df_vendas = pd.DataFrame(vendas)\n",
        "\n",
        "# Dicionário de mapeamento\n",
        "mapa_apelidos = {\n",
        "    \"Alice\": \"Aline\",\n",
        "    \"Bob\": \"Roberto\",\n",
        "    \"Charlie\": \"Carlos\"\n",
        "}\n",
        "\n",
        "# Usa o .map() para criar a nova coluna \"Apelido\"\n",
        "df_vendas[\"Apelido\"] = df_vendas[\"Vendedor\"].map(mapa_apelidos)\n",
        "\n",
        "print(\"DataFrame com a nova coluna 'Apelido':\\n\", df_vendas)"
      ],
      "metadata": {
        "colab": {
          "base_uri": "https://localhost:8080/"
        },
        "id": "msW3KUZKp8Kh",
        "outputId": "b296995c-a277-48c1-ad70-6e50bcfbc31e"
      },
      "execution_count": null,
      "outputs": [
        {
          "output_type": "stream",
          "name": "stdout",
          "text": [
            "DataFrame com a nova coluna 'Apelido':\n",
            "   Vendedor Produto  Valor  Quantidade  Apelido\n",
            "0    Alice       A    100           2    Aline\n",
            "1      Bob       B    150           1  Roberto\n",
            "2    Alice       A    200           3    Aline\n",
            "3  Charlie       C     50           1   Carlos\n",
            "4      Bob       A    120           2  Roberto\n",
            "5    Alice       B    180           1    Aline\n",
            "6  Charlie       B     90           1   Carlos\n"
          ]
        }
      ]
    },
    {
      "cell_type": "code",
      "source": [
        "df_limpo = df_vendas.copy()\n",
        "\n",
        "df_limpo[\"Produto\"] = df_limpo[\"Produto\"].fillna(\"Sem produto\")\n",
        "media = df_limpo[\"Valor\"].mean()\n",
        "df_limpo[\"Valor\"] = df_limpo[\"Valor\"].fillna(media)\n",
        "print(df_limpo)"
      ],
      "metadata": {
        "id": "yAYHp5oYqBb5",
        "colab": {
          "base_uri": "https://localhost:8080/"
        },
        "outputId": "404f772d-cd16-4d43-d3e2-b3eefc81c92e"
      },
      "execution_count": null,
      "outputs": [
        {
          "output_type": "stream",
          "name": "stdout",
          "text": [
            "  Vendedor Produto  Valor  Quantidade  Apelido\n",
            "0    Alice       A    100           2    Aline\n",
            "1      Bob       B    150           1  Roberto\n",
            "2    Alice       A    200           3    Aline\n",
            "3  Charlie       C     50           1   Carlos\n",
            "4      Bob       A    120           2  Roberto\n",
            "5    Alice       B    180           1    Aline\n",
            "6  Charlie       B     90           1   Carlos\n"
          ]
        }
      ]
    },
    {
      "cell_type": "code",
      "source": [
        "import pandas as pd\n",
        "import numpy as np\n",
        "\n",
        "dados = {\n",
        "    \"Vendedor\":[\"Alice\", \"Bob\", np.nan, \"Charlie\", \"Bob\", \"Alice\"],\n",
        "    \"Produto\": [\"A\", \"B\", \"A\", \"C\", \"A\", np.nan],\n",
        "    \"Valor\": [100, 150, 200, np.nan, 120, 180]\n",
        "}\n",
        "df = pd.DataFrame(dados)\n",
        "\n",
        "df_vendedores_sem_nan = df[\"Vendedor\"].dropna()\n",
        "print(df_vendedores_sem_nan)\n",
        "\n",
        "df_colunas_completas = df.dropna(axis=1)\n",
        "print(df_colunas_completas)\n"
      ],
      "metadata": {
        "id": "7CmuZvDA3s-W",
        "colab": {
          "base_uri": "https://localhost:8080/"
        },
        "outputId": "1c936c73-5a46-43a1-b055-a31ccb9e6a68"
      },
      "execution_count": null,
      "outputs": [
        {
          "output_type": "stream",
          "name": "stdout",
          "text": [
            "0      Alice\n",
            "1        Bob\n",
            "3    Charlie\n",
            "4        Bob\n",
            "5      Alice\n",
            "Name: Vendedor, dtype: object\n",
            "Empty DataFrame\n",
            "Columns: []\n",
            "Index: [0, 1, 2, 3, 4, 5]\n"
          ]
        }
      ]
    },
    {
      "cell_type": "code",
      "source": [],
      "metadata": {
        "id": "SAfDhYcMTSM4"
      },
      "execution_count": null,
      "outputs": []
    }
  ]
}