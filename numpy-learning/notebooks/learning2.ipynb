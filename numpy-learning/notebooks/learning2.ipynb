{
 "cells": [
  {
   "cell_type": "code",
   "execution_count": 8,
   "id": "38420d2a",
   "metadata": {},
   "outputs": [],
   "source": [
    "import numpy as np\n",
    "import pandas as pd"
   ]
  },
  {
   "cell_type": "code",
   "execution_count": 10,
   "id": "1f5e5639",
   "metadata": {},
   "outputs": [],
   "source": [
    "array_1_2D = np.array([[1,2], [5, 7]])\n",
    "array_2_2D = np.array([[8, 9], [5, 7]])\n",
    "array_3_2D = np.array([[1, 2], [5, 7]])\n",
    "array_3D = np.array([array_1_2D, array_2_2D, array_3_2D])"
   ]
  },
  {
   "cell_type": "code",
   "execution_count": 4,
   "id": "37c4a7e5",
   "metadata": {},
   "outputs": [
    {
     "name": "stdout",
     "output_type": "stream",
     "text": [
      "()\n"
     ]
    }
   ],
   "source": [
    "shape_1 = np.shape(5, )\n",
    "print(shape_1)"
   ]
  },
  {
   "cell_type": "code",
   "execution_count": null,
   "id": "2199610e",
   "metadata": {},
   "outputs": [],
   "source": []
  }
 ],
 "metadata": {
  "kernelspec": {
   "display_name": "venv",
   "language": "python",
   "name": "python3"
  },
  "language_info": {
   "codemirror_mode": {
    "name": "ipython",
    "version": 3
   },
   "file_extension": ".py",
   "mimetype": "text/x-python",
   "name": "python",
   "nbconvert_exporter": "python",
   "pygments_lexer": "ipython3",
   "version": "3.13.1"
  }
 },
 "nbformat": 4,
 "nbformat_minor": 5
}
