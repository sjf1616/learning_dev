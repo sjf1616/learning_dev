{
 "cells": [
  {
   "cell_type": "markdown",
   "id": "380e9ff0",
   "metadata": {},
   "source": [
    "# Criando modelo com 100% autonomia\n",
    "---\n",
    "\n",
    "Neste arquivo eu o utilizo para testar meus conhecimentos em ML de forma 100% autonoma, sem auxilio de LLM. "
   ]
  },
  {
   "cell_type": "code",
   "execution_count": 1,
   "id": "b963941c",
   "metadata": {},
   "outputs": [
    {
     "name": "stdout",
     "output_type": "stream",
     "text": [
      "Vai chover? Sim\n"
     ]
    }
   ],
   "source": [
    "from sklearn.linear_model import LogisticRegression\n",
    "\n",
    "# Dados ( X = features, y = saídas )\n",
    "X = [\n",
    "    [90, 85, 10],\n",
    "    [10, 30, 5],\n",
    "    [70, 80, 15],\n",
    "    [20, 40, 8],\n",
    "    [95, 95, 20]\n",
    "]\n",
    "\n",
    "y = [1, 0, 1, 0, 1]\n",
    "\n",
    "# Treinando o modelo\n",
    "modelo = LogisticRegression()\n",
    "modelo.fit(X, y)\n",
    "\n",
    "# Nova entrada para prever\n",
    "x_predict = [[70, 95, 5]]\n",
    "predict = modelo.predict(x_predict)\n",
    "\n",
    "print(\"Vai chover?\", \"Sim\" if predict[0] == 1 else \"Não\")"
   ]
  },
  {
   "cell_type": "code",
   "execution_count": null,
   "id": "70675a5b",
   "metadata": {},
   "outputs": [],
   "source": []
  }
 ],
 "metadata": {
  "kernelspec": {
   "display_name": "Python 3",
   "language": "python",
   "name": "python3"
  },
  "language_info": {
   "codemirror_mode": {
    "name": "ipython",
    "version": 3
   },
   "file_extension": ".py",
   "mimetype": "text/x-python",
   "name": "python",
   "nbconvert_exporter": "python",
   "pygments_lexer": "ipython3",
   "version": "3.13.1"
  }
 },
 "nbformat": 4,
 "nbformat_minor": 5
}
